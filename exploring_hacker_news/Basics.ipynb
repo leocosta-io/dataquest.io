{
 "cells": [
  {
   "cell_type": "markdown",
   "metadata": {
    "collapsed": true
   },
   "source": [
    "# Hacker News Analysis\n",
    "\n",
    "Discovering which posts are more popular and some possible reasons."
   ]
  },
  {
   "cell_type": "code",
   "execution_count": 4,
   "metadata": {},
   "outputs": [
    {
     "name": "stdout",
     "output_type": "stream",
     "text": [
      "[['id', 'title', 'url', 'num_points', 'num_comments', 'author', 'created_at'], ['12224879', 'Interactive Dynamic Video', 'http://www.interactivedynamicvideo.com/', '386', '52', 'ne0phyte', '8/4/2016 11:52'], ['10975351', 'How to Use Open Source and Shut the Fuck Up at the Same Time', 'http://hueniverse.com/2016/01/26/how-to-use-open-source-and-shut-the-fuck-up-at-the-same-time/', '39', '10', 'josep2', '1/26/2016 19:30'], ['11964716', \"Florida DJs May Face Felony for April Fools' Water Joke\", 'http://www.thewire.com/entertainment/2013/04/florida-djs-april-fools-water-joke/63798/', '2', '1', 'vezycash', '6/23/2016 22:20'], ['11919867', 'Technology ventures: From Idea to Enterprise', 'https://www.amazon.com/Technology-Ventures-Enterprise-Thomas-Byers/dp/0073523429', '3', '1', 'hswarna', '6/17/2016 0:01'], ['10301696', 'Note by Note: The Making of Steinway L1037 (2007)', 'http://www.nytimes.com/2007/11/07/movies/07stein.html?_r=0', '8', '2', 'walterbell', '9/30/2015 4:12']]\n"
     ]
    }
   ],
   "source": [
    "import csv\n",
    "\n",
    "opened_file = open(\"hacker_news.csv\")\n",
    "hn = list(csv.reader(opened_file))"
   ]
  },
  {
   "cell_type": "code",
   "execution_count": 5,
   "metadata": {},
   "outputs": [],
   "source": [
    "headers = hn[0]\n",
    "hn = hn[1:]"
   ]
  },
  {
   "cell_type": "code",
   "execution_count": 11,
   "metadata": {},
   "outputs": [
    {
     "name": "stdout",
     "output_type": "stream",
     "text": [
      "ask posts: 1744\n",
      "show posts: 1162\n",
      "other posts: 17194\n"
     ]
    }
   ],
   "source": [
    "ask_posts = []\n",
    "show_posts = []\n",
    "other_posts = []\n",
    "\n",
    "for row in hn:\n",
    "    title = row[1]\n",
    "    title_lower = title.lower()\n",
    "    \n",
    "    if title_lower.startswith(\"ask hn\"):\n",
    "        ask_posts.append(row)\n",
    "    elif title_lower.startswith(\"show hn\"):\n",
    "        show_posts.append(row)\n",
    "    else:\n",
    "        other_posts.append(row)\n",
    "    \n",
    "print(\"ask posts: \" + str(len(ask_posts)))\n",
    "print(\"show posts: \" + str(len(show_posts)))\n",
    "print(\"other posts: \" + str(len(other_posts)))"
   ]
  },
  {
   "cell_type": "code",
   "execution_count": 15,
   "metadata": {},
   "outputs": [
    {
     "name": "stdout",
     "output_type": "stream",
     "text": [
      "avg ask comments: 14.04\n",
      "avg show comments: 10.32\n"
     ]
    }
   ],
   "source": [
    "total_ask_comments = 0\n",
    "\n",
    "for row in ask_posts:\n",
    "    num_comments = int(row[4])\n",
    "    total_ask_comments += num_comments\n",
    "    \n",
    "avg_ask_comments = total_ask_comments / len(ask_posts)\n",
    "avg_ask_comments = round(avg_ask_comments, 2)\n",
    "print(\"avg ask comments: \" + str(avg_ask_comments))\n",
    "\n",
    "\n",
    "total_show_comments = 0\n",
    "\n",
    "for row in show_posts:\n",
    "    num_comments = int(row[4])\n",
    "    total_show_comments += num_comments\n",
    "    \n",
    "avg_show_comments = total_show_comments / len(show_posts)\n",
    "avg_show_comments = round(avg_show_comments, 2)\n",
    "print(\"avg show comments: \" + str(avg_show_comments))"
   ]
  },
  {
   "cell_type": "code",
   "execution_count": 16,
   "metadata": {},
   "outputs": [],
   "source": [
    "import datetime as dt\n",
    "\n",
    "result_list = []\n",
    "\n",
    "for row in ask_posts:\n",
    "    created_at = row[6]\n",
    "    num_comments = int(row[4])\n",
    "    result_list.append([created_at, num_comments])\n",
    "    \n",
    "counts_by_hour = {}\n",
    "comments_by_hour = {}\n",
    "\n",
    "for row in result_list:\n",
    "    date = row[0]\n",
    "    comments = row[1]\n",
    "    \n",
    "    # Date format: 9/30/2015 4:12\n",
    "    date = dt.datetime.strptime(date, \"%m/%d/%Y %H:%M\")\n",
    "    hour = date.strftime(\"%H\")\n",
    "    \n",
    "    if hour not in counts_by_hour:\n",
    "        counts_by_hour[hour] = 1\n",
    "        comments_by_hour[hour] = comments\n",
    "    else:\n",
    "        counts_by_hour[hour] += 1\n",
    "        comments_by_hour[hour] += comments"
   ]
  },
  {
   "cell_type": "code",
   "execution_count": 23,
   "metadata": {},
   "outputs": [
    {
     "name": "stdout",
     "output_type": "stream",
     "text": [
      "AVG comments in 00 hour is 8.13\n",
      "AVG comments in 01 hour is 11.38\n",
      "AVG comments in 02 hour is 23.81\n",
      "AVG comments in 03 hour is 7.8\n",
      "AVG comments in 04 hour is 7.17\n",
      "AVG comments in 05 hour is 10.09\n",
      "AVG comments in 06 hour is 9.02\n",
      "AVG comments in 07 hour is 7.85\n",
      "AVG comments in 08 hour is 10.25\n",
      "AVG comments in 09 hour is 5.58\n",
      "AVG comments in 10 hour is 13.44\n",
      "AVG comments in 11 hour is 11.05\n",
      "AVG comments in 12 hour is 9.41\n",
      "AVG comments in 13 hour is 14.74\n",
      "AVG comments in 14 hour is 13.23\n",
      "AVG comments in 15 hour is 38.59\n",
      "AVG comments in 16 hour is 16.8\n",
      "AVG comments in 17 hour is 11.46\n",
      "AVG comments in 18 hour is 13.2\n",
      "AVG comments in 19 hour is 10.8\n",
      "AVG comments in 20 hour is 21.52\n",
      "AVG comments in 21 hour is 16.01\n",
      "AVG comments in 22 hour is 6.75\n",
      "AVG comments in 23 hour is 7.99\n"
     ]
    }
   ],
   "source": [
    "avg_by_hour = []\n",
    "\n",
    "for hour in counts_by_hour:\n",
    "    avg = comments_by_hour[hour] / counts_by_hour[hour]\n",
    "    avg = round(avg, 2)\n",
    "    avg_by_hour.append([hour, avg])\n",
    "    \n",
    "for row in sorted(avg_by_hour):\n",
    "    print(\"AVG comments in \" + str(row[0]) + \" hour is \" + str(row[1]))"
   ]
  },
  {
   "cell_type": "code",
   "execution_count": 24,
   "metadata": {},
   "outputs": [
    {
     "name": "stdout",
     "output_type": "stream",
     "text": [
      "Top 5 Hours for Ask Posts Comments\n",
      "[38.59, '15']\n",
      "[23.81, '02']\n",
      "[21.52, '20']\n",
      "[16.8, '16']\n",
      "[16.01, '21']\n"
     ]
    }
   ],
   "source": [
    "swap_avg_by_hour = []\n",
    "\n",
    "for row in avg_by_hour:\n",
    "    swap_avg_by_hour.append([row[1], row[0]])\n",
    "    \n",
    "#for row in sorted(swap_avg_by_hour, reverse=True):\n",
    "#    print(\"The AVG is \" + str(row[0]) + \" for the hour  \" + str(row[1]))\n",
    "\n",
    "sorted_swap = sorted(swap_avg_by_hour, reverse=True)\n",
    "\n",
    "template = \"{}:00: {} average comments per post\"\n",
    "print(\"Top 5 Hours for Ask Posts Comments\")\n",
    "for row in sorted_swap[:5]:\n",
    "    print(template.format())"
   ]
  }
 ],
 "metadata": {
  "kernelspec": {
   "display_name": "Python 3",
   "language": "python",
   "name": "python3"
  },
  "language_info": {
   "codemirror_mode": {
    "name": "ipython",
    "version": 3
   },
   "file_extension": ".py",
   "mimetype": "text/x-python",
   "name": "python",
   "nbconvert_exporter": "python",
   "pygments_lexer": "ipython3",
   "version": "3.8.2"
  }
 },
 "nbformat": 4,
 "nbformat_minor": 2
}
